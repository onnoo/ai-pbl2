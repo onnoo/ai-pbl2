{
  "nbformat": 4,
  "nbformat_minor": 0,
  "metadata": {
    "colab": {
      "name": "codeOnWeb.ipynb",
      "provenance": [],
      "collapsed_sections": []
    },
    "kernelspec": {
      "name": "python3",
      "display_name": "Python 3"
    }
  },
  "cells": [
    {
      "cell_type": "code",
      "metadata": {
        "id": "LhVjQOxAXhgz",
        "colab_type": "code",
        "colab": {
          "base_uri": "https://localhost:8080/",
          "height": 122
        },
        "outputId": "f7d3f9c7-b12a-4ece-eef4-fa8e4806579a"
      },
      "source": [
        "from google.colab import drive\n",
        "drive.mount('/content/drive')"
      ],
      "execution_count": 1,
      "outputs": [
        {
          "output_type": "stream",
          "text": [
            "Go to this URL in a browser: https://accounts.google.com/o/oauth2/auth?client_id=947318989803-6bn6qk8qdgf4n4g3pfee6491hc0brc4i.apps.googleusercontent.com&redirect_uri=urn%3aietf%3awg%3aoauth%3a2.0%3aoob&response_type=code&scope=email%20https%3a%2f%2fwww.googleapis.com%2fauth%2fdocs.test%20https%3a%2f%2fwww.googleapis.com%2fauth%2fdrive%20https%3a%2f%2fwww.googleapis.com%2fauth%2fdrive.photos.readonly%20https%3a%2f%2fwww.googleapis.com%2fauth%2fpeopleapi.readonly\n",
            "\n",
            "Enter your authorization code:\n",
            "··········\n",
            "Mounted at /content/drive\n"
          ],
          "name": "stdout"
        }
      ]
    },
    {
      "cell_type": "markdown",
      "metadata": {
        "id": "HhH6I3CWdceP",
        "colab_type": "text"
      },
      "source": [
        "## data path"
      ]
    },
    {
      "cell_type": "code",
      "metadata": {
        "id": "FGU_cwOAZHrU",
        "colab_type": "code",
        "colab": {}
      },
      "source": [
        "training_image = '/content/drive/My Drive/2019/2019-2/인공지능/PBL2/data/newtrain-images-idx3-ubyte'\n",
        "training_label = '/content/drive/My Drive/2019/2019-2/인공지능/PBL2/data/newtrain-labels-idx1-ubyte'\n",
        "test_image = '/content/drive/My Drive/2019/2019-2/인공지능/PBL2/data/testall-images-idx3-ubyte'"
      ],
      "execution_count": 0,
      "outputs": []
    },
    {
      "cell_type": "markdown",
      "metadata": {
        "id": "ba1mc786dbRb",
        "colab_type": "text"
      },
      "source": [
        "# python team3.py"
      ]
    },
    {
      "cell_type": "code",
      "metadata": {
        "id": "r5NXt-pqcw3Q",
        "colab_type": "code",
        "colab": {
          "base_uri": "https://localhost:8080/",
          "height": 51
        },
        "outputId": "0a7c968f-7084-41b0-8ff0-845c65ffd698"
      },
      "source": [
        "import argparse\n",
        "import struct\n",
        "from sklearn.preprocessing import StandardScaler\n",
        "import numpy as np\n",
        "from sklearn.base import BaseEstimator, ClassifierMixin\n",
        "from math import ceil\n",
        "from sklearn.metrics import accuracy_score\n",
        "\n",
        "\n",
        "random_state = 1126\n",
        "\n",
        "\n",
        "class SVC(BaseEstimator, ClassifierMixin):\n",
        "    def __init__(self, eta=0.1, max_iter=50, C=0.1,\n",
        "                 shuffle=True, random_state=1, batch_size=32,\n",
        "                 validation_data=None):\n",
        "        self.eta = eta\n",
        "        self.max_iter = max_iter\n",
        "        self.C = C\n",
        "        self.lambda_ = 1.0 / C\n",
        "        self.shuffle = shuffle\n",
        "        self.random_state = random_state\n",
        "        self.batch_size = batch_size\n",
        "        self.validation_data = validation_data\n",
        "        self.history_ = {'train_acc': [], 'valid_acc': []}\n",
        "\n",
        "    def fit(self, X, y):\n",
        "        self.classes_, y = np.unique(y, return_inverse=True)\n",
        "        num_class, p = len(self.classes_), X.shape[1]\n",
        "        self._initialize_weights(num_class, p)\n",
        "\n",
        "        r = np.arange(X.shape[0])\n",
        "\n",
        "        for k in range(self.max_iter):\n",
        "            if self.shuffle:\n",
        "                self.rgen.shuffle(r)\n",
        "\n",
        "            for i in range(ceil(X.shape[0] / self.batch_size)):\n",
        "                batch_r = r[self.batch_size * i: self.batch_size * (i + 1)]\n",
        "                sum_w = np.zeros((num_class, p))\n",
        "                sum_b = np.zeros(num_class)\n",
        "\n",
        "                for idx in batch_r:\n",
        "                    xi = X[idx]\n",
        "                    yi = -1 * np.ones(num_class)\n",
        "                    yi[y[idx]] = 1\n",
        "\n",
        "                    conf = yi * (np.dot(self.w_, xi) + self.b_)\n",
        "                    conf_idx = np.where(conf < 1)\n",
        "\n",
        "                    yt = yi.reshape(yi.shape[0], -1)\n",
        "                    xt = xi.reshape(-1, xi.shape[0])\n",
        "\n",
        "                    sum_w[conf_idx] -= np.dot(yt, xt)[conf_idx]\n",
        "                    sum_b[conf_idx] -= yi[conf_idx]\n",
        "\n",
        "                # Update\n",
        "                self.w_ = self.w_ - self.eta * \\\n",
        "                          (sum_w / len(batch_r) + self.lambda_ * self.w_)\n",
        "                self.b_ = self.b_ - self.eta * sum_b / len(batch_r)\n",
        "\n",
        "            if k % 10 == 0:\n",
        "                print(f\"Iteration {k + 1} / {self.max_iter} \\t\", end='')\n",
        "                print(f\"train_accuracy {accuracy_score(self.predict(X), y)}\")\n",
        "\n",
        "        return self\n",
        "\n",
        "    def _score(self, X, y):\n",
        "        pred = self.predict(X)\n",
        "        score = accuracy_score(y, pred)\n",
        "        return score\n",
        "\n",
        "    def _initialize_weights(self, n_class, p):\n",
        "        self.rgen = np.random.RandomState(self.random_state)\n",
        "        self.w_ = self.rgen.normal(loc=0.0, scale=0.01, size=(n_class, p))\n",
        "        self.b_ = np.zeros(n_class)\n",
        "\n",
        "    def predict(self, X):\n",
        "        dist = np.dot(X, self.w_.T) + self.b_\n",
        "        pred = np.argmax(dist, axis=1)\n",
        "\n",
        "        return self.classes_[pred]\n",
        "\n",
        "\n",
        "def arg():\n",
        "    parser = argparse.ArgumentParser()\n",
        "    parser.add_argument('training_image', type=str)\n",
        "    parser.add_argument('training_label', type=str)\n",
        "    parser.add_argument('test_image', type=str)\n",
        "\n",
        "    args = parser.parse_args()\n",
        "\n",
        "    training_image = args.training_image\n",
        "    training_label = args.training_label\n",
        "    test_image = args.test_image\n",
        "\n",
        "    return (training_image, training_label, test_image)\n",
        "\n",
        "\n",
        "def load_data(training_image, training_label, test_image):\n",
        "    with open(training_label, 'rb') as flbl:\n",
        "        magic, num = struct.unpack(\">II\", flbl.read(8))\n",
        "        y_train = np.fromfile(flbl, dtype=np.int8)\n",
        "\n",
        "    with open(training_image, 'rb') as fimg:\n",
        "        magic, num, rows, cols = struct.unpack(\">IIII\", fimg.read(16))\n",
        "        X_train = np.fromfile(fimg, dtype=np.uint8).reshape(-1, 784)\n",
        "\n",
        "    with open(test_image, 'rb') as fimg:\n",
        "        magic, num, rows, cols = struct.unpack(\">IIII\", fimg.read(16))\n",
        "        X_test = np.fromfile(fimg, dtype=np.uint8).reshape(-1, 784)\n",
        "\n",
        "    return X_train, y_train, X_test\n",
        "\n",
        "\n",
        "if __name__ == '__main__':\n",
        "    # training_image, training_label, test_image = arg()\n",
        "    X_train, y_train, X_test = load_data(training_image, training_label, test_image)\n",
        "\n",
        "    sc = StandardScaler()\n",
        "    X_train_std = sc.fit_transform(X_train)\n",
        "    X_test_std = sc.transform(X_test)\n",
        "\n",
        "    clf = SVC(max_iter=11, eta=0.001, C=1000, random_state=random_state, batch_size=256)\n",
        "    clf.fit(X_train, y_train)\n",
        "\n",
        "    y_pred = clf.predict(X_test)\n",
        "\n",
        "    with open('prediction.txt', 'w') as f:\n",
        "        for i in y_pred:\n",
        "            f.write(f'{i}\\n')\n"
      ],
      "execution_count": 26,
      "outputs": [
        {
          "output_type": "stream",
          "text": [
            "Iteration 1 / 11 \ttrain_accuracy 0.8040875\n",
            "Iteration 11 / 11 \ttrain_accuracy 0.844375\n"
          ],
          "name": "stdout"
        }
      ]
    },
    {
      "cell_type": "code",
      "metadata": {
        "id": "50ZI2HTEcx8N",
        "colab_type": "code",
        "colab": {
          "base_uri": "https://localhost:8080/",
          "height": 34
        },
        "outputId": "de6ceb8a-2f3c-4332-8690-6b9da89b37cb"
      },
      "source": [
        "with open('prediction.txt', 'r') as f:\n",
        "    lines = f.readlines()\n",
        "\n",
        "print(lines[:10], len(lines))"
      ],
      "execution_count": 29,
      "outputs": [
        {
          "output_type": "stream",
          "text": [
            "['2\\n', '0\\n', '4\\n', '7\\n', '4\\n', '2\\n', '1\\n', '3\\n', '1\\n', '4\\n'] 60000\n"
          ],
          "name": "stdout"
        }
      ]
    },
    {
      "cell_type": "code",
      "metadata": {
        "id": "YcVnX8J9d1EB",
        "colab_type": "code",
        "colab": {}
      },
      "source": [
        ""
      ],
      "execution_count": 0,
      "outputs": []
    }
  ]
}